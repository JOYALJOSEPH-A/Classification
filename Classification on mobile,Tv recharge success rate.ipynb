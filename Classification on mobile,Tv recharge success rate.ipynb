{
 "cells": [
  {
   "cell_type": "markdown",
   "id": "5d077d60",
   "metadata": {},
   "source": [
    "## Classification on Success rate of Transaction data "
   ]
  },
  {
   "cell_type": "code",
   "execution_count": 3,
   "id": "3e337cfe",
   "metadata": {},
   "outputs": [],
   "source": [
    "import pandas as pd\n",
    "import numpy as np\n",
    "import matplotlib.pyplot as plt\n",
    "import seaborn as sns\n",
    "import warnings\n",
    "warnings.filterwarnings('ignore')\n",
    "\n",
    "from sklearn.preprocessing import robust_scale,LabelEncoder,StandardScaler\n",
    "from sklearn.linear_model import LogisticRegression\n",
    "from sklearn.model_selection  import train_test_split,cross_val_score\n",
    "from sklearn.metrics import accuracy_score,confusion_matrix,RocCurveDisplay\n",
    "from sklearn.ensemble import AdaBoostClassifier,GradientBoostingClassifier,RandomForestClassifier\n",
    "from sklearn.neighbors import KNeighborsClassifier\n",
    "from sklearn.tree import DecisionTreeClassifier"
   ]
  },
  {
   "cell_type": "code",
   "execution_count": 4,
   "id": "9bd7334b",
   "metadata": {},
   "outputs": [
    {
     "data": {
      "text/html": [
       "<div>\n",
       "<style scoped>\n",
       "    .dataframe tbody tr th:only-of-type {\n",
       "        vertical-align: middle;\n",
       "    }\n",
       "\n",
       "    .dataframe tbody tr th {\n",
       "        vertical-align: top;\n",
       "    }\n",
       "\n",
       "    .dataframe thead th {\n",
       "        text-align: right;\n",
       "    }\n",
       "</style>\n",
       "<table border=\"1\" class=\"dataframe\">\n",
       "  <thead>\n",
       "    <tr style=\"text-align: right;\">\n",
       "      <th></th>\n",
       "      <th>Unnamed: 0</th>\n",
       "      <th>Order Id</th>\n",
       "      <th>mobile</th>\n",
       "      <th>Amount</th>\n",
       "      <th>Credit Used</th>\n",
       "      <th>Status</th>\n",
       "      <th>Transid</th>\n",
       "      <th>Operator</th>\n",
       "      <th>Date</th>\n",
       "    </tr>\n",
       "  </thead>\n",
       "  <tbody>\n",
       "    <tr>\n",
       "      <th>0</th>\n",
       "      <td>0</td>\n",
       "      <td>9229923</td>\n",
       "      <td>9526140221</td>\n",
       "      <td>299.0</td>\n",
       "      <td>290.03</td>\n",
       "      <td>SUCCESS</td>\n",
       "      <td>RBR2201281632260048</td>\n",
       "      <td>Vodafone Idea</td>\n",
       "      <td>2022-01-28 16:32:40</td>\n",
       "    </tr>\n",
       "    <tr>\n",
       "      <th>1</th>\n",
       "      <td>1</td>\n",
       "      <td>9227282</td>\n",
       "      <td>9946378150</td>\n",
       "      <td>49.0</td>\n",
       "      <td>47.53</td>\n",
       "      <td>SUCCESS</td>\n",
       "      <td>BRR2201281243220028</td>\n",
       "      <td>Vodafone Idea</td>\n",
       "      <td>2022-01-28 12:43:16</td>\n",
       "    </tr>\n",
       "    <tr>\n",
       "      <th>2</th>\n",
       "      <td>2</td>\n",
       "      <td>9218780</td>\n",
       "      <td>8111868204</td>\n",
       "      <td>299.0</td>\n",
       "      <td>290.03</td>\n",
       "      <td>SUCCESS</td>\n",
       "      <td>RBR2201271746310079</td>\n",
       "      <td>Vodafone Idea</td>\n",
       "      <td>2022-01-27 17:46:42</td>\n",
       "    </tr>\n",
       "    <tr>\n",
       "      <th>3</th>\n",
       "      <td>3</td>\n",
       "      <td>9203686</td>\n",
       "      <td>10236340203</td>\n",
       "      <td>229.0</td>\n",
       "      <td>222.13</td>\n",
       "      <td>SUCCESS</td>\n",
       "      <td>338548566</td>\n",
       "      <td>Sun Dth</td>\n",
       "      <td>2022-01-26 15:20:39</td>\n",
       "    </tr>\n",
       "    <tr>\n",
       "      <th>4</th>\n",
       "      <td>4</td>\n",
       "      <td>9187282</td>\n",
       "      <td>9656272617</td>\n",
       "      <td>179.0</td>\n",
       "      <td>173.63</td>\n",
       "      <td>SUCCESS</td>\n",
       "      <td>MHR2201251118270020</td>\n",
       "      <td>Vodafone Idea</td>\n",
       "      <td>2022-01-25 11:18:01</td>\n",
       "    </tr>\n",
       "    <tr>\n",
       "      <th>...</th>\n",
       "      <td>...</td>\n",
       "      <td>...</td>\n",
       "      <td>...</td>\n",
       "      <td>...</td>\n",
       "      <td>...</td>\n",
       "      <td>...</td>\n",
       "      <td>...</td>\n",
       "      <td>...</td>\n",
       "      <td>...</td>\n",
       "    </tr>\n",
       "    <tr>\n",
       "      <th>86</th>\n",
       "      <td>6</td>\n",
       "      <td>13893025</td>\n",
       "      <td>165160065</td>\n",
       "      <td>240.0</td>\n",
       "      <td>232.80</td>\n",
       "      <td>SUCCESS</td>\n",
       "      <td>WREC172182350JESSYJ</td>\n",
       "      <td>Videocon Dth</td>\n",
       "      <td>2023-04-20 20:24:19</td>\n",
       "    </tr>\n",
       "    <tr>\n",
       "      <th>87</th>\n",
       "      <td>7</td>\n",
       "      <td>13851722</td>\n",
       "      <td>9446121275</td>\n",
       "      <td>319.0</td>\n",
       "      <td>309.43</td>\n",
       "      <td>SUCCESS</td>\n",
       "      <td>7580357849</td>\n",
       "      <td>Bsnl Special</td>\n",
       "      <td>2023-04-14 22:53:10</td>\n",
       "    </tr>\n",
       "    <tr>\n",
       "      <th>88</th>\n",
       "      <td>8</td>\n",
       "      <td>13819094</td>\n",
       "      <td>9645587576</td>\n",
       "      <td>153.0</td>\n",
       "      <td>148.41</td>\n",
       "      <td>SUCCESS</td>\n",
       "      <td>7572233584</td>\n",
       "      <td>Bsnl Special</td>\n",
       "      <td>2023-04-10 15:54:03</td>\n",
       "    </tr>\n",
       "    <tr>\n",
       "      <th>89</th>\n",
       "      <td>9</td>\n",
       "      <td>13819078</td>\n",
       "      <td>75291432450</td>\n",
       "      <td>229.0</td>\n",
       "      <td>222.13</td>\n",
       "      <td>SUCCESS</td>\n",
       "      <td>21995247MADHU</td>\n",
       "      <td>Sun Dth</td>\n",
       "      <td>2023-04-10 15:49:51</td>\n",
       "    </tr>\n",
       "    <tr>\n",
       "      <th>90</th>\n",
       "      <td>10</td>\n",
       "      <td>13777296</td>\n",
       "      <td>75233225715</td>\n",
       "      <td>249.0</td>\n",
       "      <td>241.53</td>\n",
       "      <td>SUCCESS</td>\n",
       "      <td>DBSN2346847E15</td>\n",
       "      <td>Sun Dth</td>\n",
       "      <td>2023-04-04 20:48:00</td>\n",
       "    </tr>\n",
       "  </tbody>\n",
       "</table>\n",
       "<p>91 rows × 9 columns</p>\n",
       "</div>"
      ],
      "text/plain": [
       "    Unnamed: 0  Order Id       mobile  Amount  Credit Used   Status  \\\n",
       "0            0   9229923   9526140221   299.0       290.03  SUCCESS   \n",
       "1            1   9227282   9946378150    49.0        47.53  SUCCESS   \n",
       "2            2   9218780   8111868204   299.0       290.03  SUCCESS   \n",
       "3            3   9203686  10236340203   229.0       222.13  SUCCESS   \n",
       "4            4   9187282   9656272617   179.0       173.63  SUCCESS   \n",
       "..         ...       ...          ...     ...          ...      ...   \n",
       "86           6  13893025    165160065   240.0       232.80  SUCCESS   \n",
       "87           7  13851722   9446121275   319.0       309.43  SUCCESS   \n",
       "88           8  13819094   9645587576   153.0       148.41  SUCCESS   \n",
       "89           9  13819078  75291432450   229.0       222.13  SUCCESS   \n",
       "90          10  13777296  75233225715   249.0       241.53  SUCCESS   \n",
       "\n",
       "                Transid       Operator                 Date  \n",
       "0   RBR2201281632260048  Vodafone Idea  2022-01-28 16:32:40  \n",
       "1   BRR2201281243220028  Vodafone Idea  2022-01-28 12:43:16  \n",
       "2   RBR2201271746310079  Vodafone Idea  2022-01-27 17:46:42  \n",
       "3             338548566        Sun Dth  2022-01-26 15:20:39  \n",
       "4   MHR2201251118270020  Vodafone Idea  2022-01-25 11:18:01  \n",
       "..                  ...            ...                  ...  \n",
       "86  WREC172182350JESSYJ   Videocon Dth  2023-04-20 20:24:19  \n",
       "87           7580357849   Bsnl Special  2023-04-14 22:53:10  \n",
       "88           7572233584   Bsnl Special  2023-04-10 15:54:03  \n",
       "89        21995247MADHU        Sun Dth  2023-04-10 15:49:51  \n",
       "90       DBSN2346847E15        Sun Dth  2023-04-04 20:48:00  \n",
       "\n",
       "[91 rows x 9 columns]"
      ]
     },
     "execution_count": 4,
     "metadata": {},
     "output_type": "execute_result"
    }
   ],
   "source": [
    "df = pd.read_csv('./Transation.csv')\n",
    "df"
   ]
  },
  {
   "cell_type": "code",
   "execution_count": 5,
   "id": "21e4a88a",
   "metadata": {},
   "outputs": [
    {
     "name": "stdout",
     "output_type": "stream",
     "text": [
      "<class 'pandas.core.frame.DataFrame'>\n",
      "RangeIndex: 91 entries, 0 to 90\n",
      "Data columns (total 9 columns):\n",
      " #   Column       Non-Null Count  Dtype  \n",
      "---  ------       --------------  -----  \n",
      " 0   Unnamed: 0   91 non-null     int64  \n",
      " 1   Order Id     91 non-null     int64  \n",
      " 2   mobile       91 non-null     int64  \n",
      " 3   Amount       91 non-null     float64\n",
      " 4   Credit Used  91 non-null     float64\n",
      " 5   Status       91 non-null     object \n",
      " 6   Transid      86 non-null     object \n",
      " 7   Operator     91 non-null     object \n",
      " 8   Date         91 non-null     object \n",
      "dtypes: float64(2), int64(3), object(4)\n",
      "memory usage: 6.5+ KB\n"
     ]
    }
   ],
   "source": [
    "df.info()"
   ]
  },
  {
   "cell_type": "code",
   "execution_count": 6,
   "id": "4dbdd5e1",
   "metadata": {},
   "outputs": [],
   "source": [
    "df.drop(columns= ['Date','Unnamed: 0'],inplace=True)"
   ]
  },
  {
   "cell_type": "code",
   "execution_count": 7,
   "id": "2485c6a7",
   "metadata": {},
   "outputs": [
    {
     "data": {
      "text/plain": [
       "Index(['Order Id', 'mobile', 'Amount', 'Credit Used', 'Status', 'Transid',\n",
       "       'Operator'],\n",
       "      dtype='object')"
      ]
     },
     "execution_count": 7,
     "metadata": {},
     "output_type": "execute_result"
    }
   ],
   "source": [
    "df.columns"
   ]
  },
  {
   "cell_type": "markdown",
   "id": "1d08abe7",
   "metadata": {},
   "source": [
    "### Label encoding"
   ]
  },
  {
   "cell_type": "code",
   "execution_count": 8,
   "id": "0b353ff0",
   "metadata": {},
   "outputs": [],
   "source": [
    "le = LabelEncoder()"
   ]
  },
  {
   "cell_type": "code",
   "execution_count": 9,
   "id": "3928ed5a",
   "metadata": {},
   "outputs": [],
   "source": [
    "for i in df.columns:\n",
    "    if df[i].dtype == 'object':\n",
    "        df[i] = le.fit_transform(df[i])"
   ]
  },
  {
   "cell_type": "code",
   "execution_count": 10,
   "id": "2dde7056",
   "metadata": {},
   "outputs": [
    {
     "name": "stdout",
     "output_type": "stream",
     "text": [
      "<class 'pandas.core.frame.DataFrame'>\n",
      "RangeIndex: 91 entries, 0 to 90\n",
      "Data columns (total 7 columns):\n",
      " #   Column       Non-Null Count  Dtype  \n",
      "---  ------       --------------  -----  \n",
      " 0   Order Id     91 non-null     int64  \n",
      " 1   mobile       91 non-null     int64  \n",
      " 2   Amount       91 non-null     float64\n",
      " 3   Credit Used  91 non-null     float64\n",
      " 4   Status       91 non-null     int32  \n",
      " 5   Transid      91 non-null     int32  \n",
      " 6   Operator     91 non-null     int32  \n",
      "dtypes: float64(2), int32(3), int64(2)\n",
      "memory usage: 4.0 KB\n"
     ]
    }
   ],
   "source": [
    "df.info()"
   ]
  },
  {
   "cell_type": "code",
   "execution_count": 11,
   "id": "cf6430dc",
   "metadata": {},
   "outputs": [],
   "source": [
    "df1 = df[['Order Id', 'mobile', 'Amount', 'Credit Used', 'Transid',\n",
    "       'Operator', 'Status']]"
   ]
  },
  {
   "cell_type": "markdown",
   "id": "d727be03",
   "metadata": {},
   "source": [
    "### Choosing target"
   ]
  },
  {
   "cell_type": "code",
   "execution_count": 12,
   "id": "cc4a991e",
   "metadata": {},
   "outputs": [],
   "source": [
    "x = df1.iloc[:,:-1].values\n",
    "y = df1.iloc[:,-1].values"
   ]
  },
  {
   "cell_type": "markdown",
   "id": "e81bef18",
   "metadata": {},
   "source": [
    "### Scaling using standard scaler"
   ]
  },
  {
   "cell_type": "code",
   "execution_count": 13,
   "id": "88280b1e",
   "metadata": {},
   "outputs": [],
   "source": [
    "sc = StandardScaler()"
   ]
  },
  {
   "cell_type": "code",
   "execution_count": 14,
   "id": "b36401ea",
   "metadata": {},
   "outputs": [],
   "source": [
    "x = sc.fit_transform(x)"
   ]
  },
  {
   "cell_type": "code",
   "execution_count": 15,
   "id": "b5ac1d85",
   "metadata": {},
   "outputs": [
    {
     "data": {
      "text/plain": [
       "array([1, 1, 1, 1, 1, 1, 1, 1, 1, 1, 1, 1, 1, 0, 1, 1, 0, 0, 1, 1, 1, 1,\n",
       "       1, 1, 1, 1, 1, 1, 1, 1, 1, 0, 1, 1, 1, 1, 1, 1, 1, 1, 1, 1, 1, 1,\n",
       "       0, 1, 1, 1, 1, 1, 1, 1, 1, 1, 1, 1, 1, 1, 1, 1, 1, 1, 1, 1, 1, 1,\n",
       "       1, 1, 1, 0, 1, 1, 1, 1, 1, 1, 1, 0, 1, 1, 1, 1, 1, 1, 1, 1, 1, 1,\n",
       "       1, 1, 1])"
      ]
     },
     "execution_count": 15,
     "metadata": {},
     "output_type": "execute_result"
    }
   ],
   "source": [
    "y"
   ]
  },
  {
   "cell_type": "markdown",
   "id": "07ea31d8",
   "metadata": {},
   "source": [
    "### Checking if the target is balanced or not"
   ]
  },
  {
   "cell_type": "code",
   "execution_count": 16,
   "id": "8ba3641b",
   "metadata": {},
   "outputs": [
    {
     "data": {
      "image/png": "[encoded data removed]",
      "text/plain": [
       "<Figure size 640x480 with 1 Axes>"
      ]
     },
     "metadata": {},
     "output_type": "display_data"
    }
   ],
   "source": [
    "sns.countplot(x=y);"
   ]
  },
  {
   "cell_type": "markdown",
   "id": "b8c9e31e",
   "metadata": {},
   "source": [
    "### Balancing using smote method"
   ]
  },
  {
   "cell_type": "code",
   "execution_count": 17,
   "id": "e5ac8fc6",
   "metadata": {},
   "outputs": [],
   "source": [
    "from imblearn.over_sampling import SMOTE"
   ]
  },
  {
   "cell_type": "code",
   "execution_count": 18,
   "id": "6d1b6840",
   "metadata": {},
   "outputs": [],
   "source": [
    "smote = SMOTE()"
   ]
  },
  {
   "cell_type": "code",
   "execution_count": 19,
   "id": "48cda403",
   "metadata": {},
   "outputs": [],
   "source": [
    "x_smote,y_smote = smote.fit_resample(x,y)"
   ]
  },
  {
   "cell_type": "code",
   "execution_count": 20,
   "id": "23282f3d",
   "metadata": {},
   "outputs": [
    {
     "data": {
      "text/plain": [
       "array([1, 1, 1, 1, 1, 1, 1, 1, 1, 1, 1, 1, 1, 0, 1, 1, 0, 0, 1, 1, 1, 1,\n",
       "       1, 1, 1, 1, 1, 1, 1, 1, 1, 0, 1, 1, 1, 1, 1, 1, 1, 1, 1, 1, 1, 1,\n",
       "       0, 1, 1, 1, 1, 1, 1, 1, 1, 1, 1, 1, 1, 1, 1, 1, 1, 1, 1, 1, 1, 1,\n",
       "       1, 1, 1, 0, 1, 1, 1, 1, 1, 1, 1, 0, 1, 1, 1, 1, 1, 1, 1, 1, 1, 1,\n",
       "       1, 1, 1, 0, 0, 0, 0, 0, 0, 0, 0, 0, 0, 0, 0, 0, 0, 0, 0, 0, 0, 0,\n",
       "       0, 0, 0, 0, 0, 0, 0, 0, 0, 0, 0, 0, 0, 0, 0, 0, 0, 0, 0, 0, 0, 0,\n",
       "       0, 0, 0, 0, 0, 0, 0, 0, 0, 0, 0, 0, 0, 0, 0, 0, 0, 0, 0, 0, 0, 0,\n",
       "       0, 0, 0, 0, 0, 0, 0, 0, 0, 0, 0, 0, 0, 0])"
      ]
     },
     "execution_count": 20,
     "metadata": {},
     "output_type": "execute_result"
    }
   ],
   "source": [
    "y_smote"
   ]
  },
  {
   "cell_type": "code",
   "execution_count": 21,
   "id": "5915bb28",
   "metadata": {},
   "outputs": [
    {
     "data": {
      "image/png": "[encoded data removed]",
      "text/plain": [
       "<Figure size 640x480 with 1 Axes>"
      ]
     },
     "metadata": {},
     "output_type": "display_data"
    }
   ],
   "source": [
    "sns.countplot(x=y_smote);"
   ]
  },
  {
   "cell_type": "markdown",
   "id": "c033eb85",
   "metadata": {},
   "source": [
    "#### Balancing using ADASYN method"
   ]
  },
  {
   "cell_type": "code",
   "execution_count": 22,
   "id": "6966e0f7",
   "metadata": {},
   "outputs": [],
   "source": [
    "from imblearn.over_sampling import ADASYN\n",
    "adasyn = ADASYN()"
   ]
  },
  {
   "cell_type": "code",
   "execution_count": 23,
   "id": "7c54cbc2",
   "metadata": {},
   "outputs": [],
   "source": [
    "x_adasyn,y_adasyn = adasyn.fit_resample(x,y)"
   ]
  },
  {
   "cell_type": "code",
   "execution_count": 24,
   "id": "99940574",
   "metadata": {},
   "outputs": [
    {
     "data": {
      "text/plain": [
       "array([1, 1, 1, 1, 1, 1, 1, 1, 1, 1, 1, 1, 1, 0, 1, 1, 0, 0, 1, 1, 1, 1,\n",
       "       1, 1, 1, 1, 1, 1, 1, 1, 1, 0, 1, 1, 1, 1, 1, 1, 1, 1, 1, 1, 1, 1,\n",
       "       0, 1, 1, 1, 1, 1, 1, 1, 1, 1, 1, 1, 1, 1, 1, 1, 1, 1, 1, 1, 1, 1,\n",
       "       1, 1, 1, 0, 1, 1, 1, 1, 1, 1, 1, 0, 1, 1, 1, 1, 1, 1, 1, 1, 1, 1,\n",
       "       1, 1, 1, 0, 0, 0, 0, 0, 0, 0, 0, 0, 0, 0, 0, 0, 0, 0, 0, 0, 0, 0,\n",
       "       0, 0, 0, 0, 0, 0, 0, 0, 0, 0, 0, 0, 0, 0, 0, 0, 0, 0, 0, 0, 0, 0,\n",
       "       0, 0, 0, 0, 0, 0, 0, 0, 0, 0, 0, 0, 0, 0, 0, 0, 0, 0, 0, 0, 0, 0,\n",
       "       0, 0, 0, 0, 0, 0, 0, 0, 0, 0, 0, 0, 0, 0, 0, 0])"
      ]
     },
     "execution_count": 24,
     "metadata": {},
     "output_type": "execute_result"
    }
   ],
   "source": [
    "y_adasyn"
   ]
  },
  {
   "cell_type": "code",
   "execution_count": 25,
   "id": "1cf5013c",
   "metadata": {},
   "outputs": [
    {
     "data": {
      "image/png": "[encoded data removed]",
      "text/plain": [
       "<Figure size 640x480 with 1 Axes>"
      ]
     },
     "metadata": {},
     "output_type": "display_data"
    }
   ],
   "source": [
    "sns.countplot(x= y_adasyn);"
   ]
  },
  {
   "cell_type": "markdown",
   "id": "9cf0e843",
   "metadata": {},
   "source": [
    "### Finding suitable model for classification"
   ]
  },
  {
   "cell_type": "code",
   "execution_count": 28,
   "id": "5de150cb",
   "metadata": {},
   "outputs": [],
   "source": [
    "models = {'LogisticRegression':LogisticRegression(),\n",
    "         'AdaBoostClassifier':AdaBoostClassifier(),\n",
    "         'GradientBoostingClassifier':GradientBoostingClassifier(),\n",
    "         'RandomForestClassifier':RandomForestClassifier(),\n",
    "         'KNeighborsClassifier':KNeighborsClassifier(),\n",
    "         'DecisionTreeClassifier':DecisionTreeClassifier()}"
   ]
  },
  {
   "cell_type": "code",
   "execution_count": 32,
   "id": "8a17e6a2",
   "metadata": {},
   "outputs": [
    {
     "name": "stdout",
     "output_type": "stream",
     "text": [
      "Your cross validation mpdel is:  LogisticRegression()\n",
      "Mean cross validation score is:  96.77777777777777\n",
      "****************************************************************************************************\n",
      "Your cross validation mpdel is:  AdaBoostClassifier()\n",
      "Mean cross validation score is:  100.0\n",
      "****************************************************************************************************\n",
      "Your cross validation mpdel is:  GradientBoostingClassifier()\n",
      "Mean cross validation score is:  100.0\n",
      "****************************************************************************************************\n",
      "Your cross validation mpdel is:  RandomForestClassifier()\n",
      "Mean cross validation score is:  100.0\n",
      "****************************************************************************************************\n",
      "Your cross validation mpdel is:  KNeighborsClassifier()\n",
      "Mean cross validation score is:  97.88888888888889\n",
      "****************************************************************************************************\n",
      "Your cross validation mpdel is:  DecisionTreeClassifier()\n",
      "Mean cross validation score is:  100.0\n",
      "****************************************************************************************************\n"
     ]
    }
   ],
   "source": [
    "for name,model in models.items():\n",
    "    cv_score = cross_val_score(model,x,y,scoring='accuracy',cv=10,n_jobs=-1)\n",
    "    print('Your cross validation mpdel is: ',model)\n",
    "    print('Mean cross validation score is: ',np.mean(cv_score)*100)\n",
    "    print('*'*100)"
   ]
  },
  {
   "cell_type": "markdown",
   "id": "85fbb545",
   "metadata": {},
   "source": [
    "##### we can choose RandomForestClassifier as our model"
   ]
  },
  {
   "cell_type": "markdown",
   "id": "bf382485",
   "metadata": {},
   "source": [
    "### Classification"
   ]
  },
  {
   "cell_type": "code",
   "execution_count": 30,
   "id": "ec159ee7",
   "metadata": {},
   "outputs": [],
   "source": [
    "model =RandomForestClassifier()"
   ]
  },
  {
   "cell_type": "code",
   "execution_count": 31,
   "id": "3689288c",
   "metadata": {},
   "outputs": [],
   "source": [
    "x_train,x_test,y_train,y_test = train_test_split(x,y,test_size=0.2,random_state=100,shuffle=True)"
   ]
  },
  {
   "cell_type": "markdown",
   "id": "90776df4",
   "metadata": {},
   "source": [
    "### Training and Testing accuracy"
   ]
  },
  {
   "cell_type": "code",
   "execution_count": 41,
   "id": "0e04c997",
   "metadata": {},
   "outputs": [
    {
     "name": "stdout",
     "output_type": "stream",
     "text": [
      "Model trained with RandomForestClassifier\n",
      "Model training accuracy is: 1.0\n",
      "Model testing accuracy  is:  0.9473684210526315\n"
     ]
    }
   ],
   "source": [
    "model.fit(x_train,y_train)\n",
    "print('Model trained with RandomForestClassifier')\n",
    "y_pred_train = model.predict(x_train)\n",
    "y_pred_test = model.predict(x_test)\n",
    "accuracy_score_train = accuracy_score(y_train,y_pred_train)\n",
    "accuracy_score_test = accuracy_score(y_test,y_pred_test)\n",
    "\n",
    "print('Model training accuracy is:',accuracy_score_train)\n",
    "print('Model testing accuracy  is: ',accuracy_score_test)"
   ]
  },
  {
   "cell_type": "markdown",
   "id": "dc732ecc",
   "metadata": {},
   "source": [
    "### confusion matrix"
   ]
  },
  {
   "cell_type": "code",
   "execution_count": 38,
   "id": "d0a8865f",
   "metadata": {},
   "outputs": [
    {
     "name": "stdout",
     "output_type": "stream",
     "text": [
      "confusion_matrix of train is: [[ 5  0]\n",
      " [ 0 67]]\n",
      "confusion_matrix of test is:  [[ 2  0]\n",
      " [ 0 17]]\n"
     ]
    }
   ],
   "source": [
    "con_matrix_train = confusion_matrix(y_train,y_pred_train)\n",
    "con_matrix_test = confusion_matrix(y_test,y_pred_test)\n",
    "\n",
    "print('confusion_matrix of train is:',con_matrix_train)\n",
    "print('confusion_matrix of test is: ',con_matrix_test)"
   ]
  },
  {
   "cell_type": "code",
   "execution_count": 37,
   "id": "e2dfb222",
   "metadata": {},
   "outputs": [
    {
     "name": "stdout",
     "output_type": "stream",
     "text": [
      "Wrong prediction made is:  0 / 19\n"
     ]
    }
   ],
   "source": [
    "print('Wrong prediction made is: ',(y_test!=y_pred_test).sum(),'/',len(y_test))"
   ]
  },
  {
   "cell_type": "markdown",
   "id": "c666d54b",
   "metadata": {},
   "source": [
    "### ROC Curve"
   ]
  },
  {
   "cell_type": "code",
   "execution_count": 35,
   "id": "0f44e8f3",
   "metadata": {
    "scrolled": true
   },
   "outputs": [
    {
     "data": {
      "image/png": "[encoded data removed]",
      "text/plain": [
       "<Figure size 640x480 with 1 Axes>"
      ]
     },
     "metadata": {},
     "output_type": "display_data"
    }
   ],
   "source": [
    "Roc_Display = RocCurveDisplay.from_estimator(model,x_test,y_test)"
   ]
  },
  {
   "cell_type": "code",
   "execution_count": 2,
   "id": "24bf33e8",
   "metadata": {},
   "outputs": [],
   "source": [
    "# AUC =  Area under the curve"
   ]
  },
  {
   "cell_type": "code",
   "execution_count": null,
   "id": "a2213222",
   "metadata": {},
   "outputs": [],
   "source": []
  }
 ],
 "metadata": {
  "kernelspec": {
   "display_name": "Python 3 (ipykernel)",
   "language": "python",
   "name": "python3"
  },
  "language_info": {
   "codemirror_mode": {
    "name": "ipython",
    "version": 3
   },
   "file_extension": ".py",
   "mimetype": "text/x-python",
   "name": "python",
   "nbconvert_exporter": "python",
   "pygments_lexer": "ipython3",
   "version": "3.10.9"
  }
 },
 "nbformat": 4,
 "nbformat_minor": 5
}
